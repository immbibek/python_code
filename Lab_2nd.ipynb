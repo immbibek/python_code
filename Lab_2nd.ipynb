{
  "nbformat": 4,
  "nbformat_minor": 0,
  "metadata": {
    "colab": {
      "provenance": [],
      "authorship_tag": "ABX9TyOsbiToP4WbzZt2DZpqPKMj",
      "include_colab_link": true
    },
    "kernelspec": {
      "name": "python3",
      "display_name": "Python 3"
    },
    "language_info": {
      "name": "python"
    }
  },
  "cells": [
    {
      "cell_type": "markdown",
      "metadata": {
        "id": "view-in-github",
        "colab_type": "text"
      },
      "source": [
        "<a href=\"https://colab.research.google.com/github/immbibek/python_code/blob/main/Lab_2nd.ipynb\" target=\"_parent\"><img src=\"https://colab.research.google.com/assets/colab-badge.svg\" alt=\"Open In Colab\"/></a>"
      ]
    },
    {
      "cell_type": "code",
      "execution_count": null,
      "metadata": {
        "colab": {
          "base_uri": "https://localhost:8080/"
        },
        "id": "2PmWf-7fJ48h",
        "outputId": "8365d5c8-d117-459f-ce5c-95d666de4c97"
      },
      "outputs": [
        {
          "output_type": "stream",
          "name": "stdout",
          "text": [
            "Enter your number:13\n",
            "6227020800\n",
            "length of digit is 2\n"
          ]
        }
      ],
      "source": [
        "# QN 1.  if num is odd---> factorial and if num is even ---> pallindrome\n",
        "\n",
        "def pallindrome_checker(num):\n",
        "   rev=0\n",
        "   while num!=0:\n",
        "    digit=num%10\n",
        "    rev=rev*10+digit\n",
        "    num=num//10\n",
        "   return rev\n",
        "\n",
        "def factorial(num):\n",
        "  fact=1\n",
        "  for i in range(1,num+1):\n",
        "    fact=fact*i\n",
        "  return fact\n",
        "\n",
        "num=int(input(\"Enter your number:\"))\n",
        "if num%2==0:\n",
        "  result=pallindrome_checker(num)\n",
        "  if result==num:\n",
        "    print(\"Pallindrome\")\n",
        "  else:\n",
        "    print(\"Not a pallindrome\")\n",
        "else:\n",
        "  res=factorial(num)\n",
        "  print(res)\n",
        "  len1=str(num)\n",
        "  print(f\"length of digit is {len(len1)}\")\n",
        "\n",
        "\n",
        "\n"
      ]
    },
    {
      "cell_type": "code",
      "source": [],
      "metadata": {
        "id": "wR8XMqyRMlmS"
      },
      "execution_count": null,
      "outputs": []
    },
    {
      "cell_type": "markdown",
      "source": [
        "**QN.2 ---> String and its operation **\n",
        "approach-->\n",
        " second string is obtained from first string"
      ],
      "metadata": {
        "id": "4zPFp8njj51-"
      }
    },
    {
      "cell_type": "code",
      "source": [
        "def string_obtained(str1,str2):\n",
        "  str3=''\n",
        "  temp=0\n",
        "  len1=len(str1)\n",
        "  len2=len(str2)\n",
        "  for i in range(0,len2):\n",
        "      for j in range(temp,len1):\n",
        "        if(str1[j]==str2[i]):\n",
        "          str3=str3+str1[j]\n",
        "          temp=j+1\n",
        "          break\n",
        "  return str3\n",
        "\n",
        "str1=input(\"Enter your first string:\")\n",
        "str2=input(\"Enter your second string:\")\n",
        "result=string_obtained(str1,str2)\n",
        "if result==str2:\n",
        "  print(\"Yes it obtined from first str1.\")\n",
        "else:\n",
        "  print(\"NO it is not.\")\n",
        "\n",
        "\n",
        "\n",
        "\n",
        "\n",
        "\n",
        "\n",
        "\n",
        "\n",
        "\n",
        "\n",
        "\n",
        "\n"
      ],
      "metadata": {
        "colab": {
          "base_uri": "https://localhost:8080/"
        },
        "id": "T1UoiMX_m5IC",
        "outputId": "b811fe7f-a0ca-4fc1-c3bf-8fd78f2f2004"
      },
      "execution_count": null,
      "outputs": [
        {
          "output_type": "stream",
          "name": "stdout",
          "text": [
            "Enter your first string:welcome\n",
            "Enter your second string:come\n",
            "Yes it obtined from first str1.\n"
          ]
        }
      ]
    },
    {
      "cell_type": "markdown",
      "source": [
        "****"
      ],
      "metadata": {
        "id": "d-LWWVuMjXfV"
      }
    },
    {
      "cell_type": "code",
      "source": [],
      "metadata": {
        "id": "8-uG-D9RyqGn"
      },
      "execution_count": null,
      "outputs": []
    },
    {
      "cell_type": "markdown",
      "source": [
        "**QN3>\n",
        "List and its operations**\n",
        "\n",
        "a--> program for positive indexing\n",
        "# New Section\n",
        "b--> program to check list is in ascending or not."
      ],
      "metadata": {
        "id": "2I8tSAvlyshi"
      }
    },
    {
      "cell_type": "code",
      "source": [
        "def positive_indexing(lst):\n",
        "    for i in range(len(lst)):\n",
        "        print(\"Positive index\", i, \":\", lst[i])\n",
        "\n",
        "def negative_indexing(lst):\n",
        "    for i in range(-1, -len(lst) - 1, -1):\n",
        "        print(\"Negative index\", i, \":\", lst[i])\n",
        "\n",
        "# Example usage\n",
        "my_list = ['a', 'b', 'c', 'd', 'e']\n",
        "\n",
        "print(\"Positive indexing:\")\n",
        "positive_indexing(my_list)\n",
        "\n",
        "print(\"\\nNegative indexing:\")\n",
        "negative_indexing(my_list)\n"
      ],
      "metadata": {
        "colab": {
          "base_uri": "https://localhost:8080/"
        },
        "id": "wj5WNqsgysFl",
        "outputId": "358f714e-8fdd-4bd2-a2a8-2cf1b7ce4609"
      },
      "execution_count": null,
      "outputs": [
        {
          "output_type": "stream",
          "name": "stdout",
          "text": [
            "Positive indexing:\n",
            "Positive index 0 : a\n",
            "Positive index 1 : b\n",
            "Positive index 2 : c\n",
            "Positive index 3 : d\n",
            "Positive index 4 : e\n",
            "\n",
            "Negative indexing:\n",
            "Negative index -1 : e\n",
            "Negative index -2 : d\n",
            "Negative index -3 : c\n",
            "Negative index -4 : b\n",
            "Negative index -5 : a\n"
          ]
        }
      ]
    },
    {
      "cell_type": "code",
      "source": [
        "#b)---> check given string is ascending or not\n",
        "\n",
        "def is_ascending(lst):\n",
        "    for i in range(len(lst) - 1):\n",
        "        if lst[i] > lst[i + 1]:\n",
        "            return False\n",
        "    return True\n",
        "\n",
        "\n",
        "my_list = [1, 3, 5, 7, 9]\n",
        "\n",
        "if is_ascending(my_list):\n",
        "    print(\"The list is in ascending order.\")\n",
        "else:\n",
        "    print(\"The list is not in ascending order.\")\n"
      ],
      "metadata": {
        "colab": {
          "base_uri": "https://localhost:8080/"
        },
        "id": "5iEeyItayq3K",
        "outputId": "60b3e0cb-c874-41aa-f0a1-2a411c5305b3"
      },
      "execution_count": null,
      "outputs": [
        {
          "output_type": "stream",
          "name": "stdout",
          "text": [
            "The list is in ascending order.\n"
          ]
        }
      ]
    },
    {
      "cell_type": "markdown",
      "source": [
        "**Tuple and its operations**\n",
        "\n",
        "A) convert tuple to string\n",
        "\n",
        "b) python programm to reverse\n"
      ],
      "metadata": {
        "id": "0LHaQX6q4yoU"
      }
    },
    {
      "cell_type": "code",
      "source": [
        "\n",
        "my_tuple = ('H', 'e', 'l', 'l', 'o')\n",
        "\n",
        "# Convert tuple to string\n",
        "my_string = ''.join(str(elem) for elem in my_tuple)\n",
        "print(my_string)\n",
        "\n",
        "\n"
      ],
      "metadata": {
        "colab": {
          "base_uri": "https://localhost:8080/"
        },
        "id": "2AXRuZzF4xL9",
        "outputId": "8090646d-888f-40fb-e6df-c52a0ed13b11"
      },
      "execution_count": null,
      "outputs": [
        {
          "output_type": "stream",
          "name": "stdout",
          "text": [
            "Hello\n"
          ]
        }
      ]
    },
    {
      "cell_type": "code",
      "source": [
        "# reverse a tuple\n",
        "def reverse(my_tuple):\n",
        "  list1=list(my_tuple)\n",
        "  reversed_list=list(reversed(my_tuple))\n",
        "  reverse_tuple=tuple(reversed_list)\n",
        "  return reverse_tuple\n",
        "\n",
        "my_tuple=('H','E','L','L','A')\n",
        "tuple1=reverse(my_tuple)\n",
        "print(f\"reverse tuple is {tuple1}\")"
      ],
      "metadata": {
        "colab": {
          "base_uri": "https://localhost:8080/"
        },
        "id": "zJ45Q_pLEp7f",
        "outputId": "b7babd23-2d44-4481-ccef-97eb3d85f11f"
      },
      "execution_count": null,
      "outputs": [
        {
          "output_type": "stream",
          "name": "stdout",
          "text": [
            "reverse tuple is ('A', 'L', 'L', 'E', 'H')\n"
          ]
        }
      ]
    },
    {
      "cell_type": "code",
      "source": [],
      "metadata": {
        "id": "hQRAVFE6Ew2v"
      },
      "execution_count": null,
      "outputs": []
    },
    {
      "cell_type": "markdown",
      "source": [
        "**QN.5  Set and its operations**\n",
        "\n",
        " Python program to check if a set is a subset of another"
      ],
      "metadata": {
        "id": "be-EPQbhF_Rn"
      }
    },
    {
      "cell_type": "code",
      "source": [
        "def check_subset(set1,set2):\n",
        "  if set1.issubset(set2):\n",
        "    return True\n",
        "  else:\n",
        "    return False\n",
        "set1={1,2,3,4,5}\n",
        "set2={4,2,2,1,4,5}\n",
        "check=check_subset(set1,set2)\n",
        "print(check)"
      ],
      "metadata": {
        "colab": {
          "base_uri": "https://localhost:8080/"
        },
        "id": "MaeWATUTG7lS",
        "outputId": "b21d5e6f-1145-48a6-e622-cbfc1da54143"
      },
      "execution_count": null,
      "outputs": [
        {
          "output_type": "stream",
          "name": "stdout",
          "text": [
            "False\n"
          ]
        }
      ]
    }
  ]
}